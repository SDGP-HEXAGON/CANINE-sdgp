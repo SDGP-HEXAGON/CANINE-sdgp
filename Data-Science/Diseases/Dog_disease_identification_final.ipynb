{
 "cells": [
  {
   "cell_type": "code",
   "execution_count": 1,
   "metadata": {},
   "outputs": [],
   "source": [
    "import pandas as pd\n",
    "import numpy as np\n",
    "import matplotlib.pyplot as plt\n",
    "from sklearn.model_selection import train_test_split\n",
    "#from sklearn.tree import DecisionTreeClassifier\n",
    "from sklearn.svm import SVC\n",
    "from sklearn.metrics import f1_score, accuracy_score, confusion_matrix\n",
    "import seaborn as sns\n",
    "from sklearn.datasets import load_digits\n",
    "from sklearn.ensemble import RandomForestClassifier"
   ]
  },
  {
   "cell_type": "code",
   "execution_count": 2,
   "metadata": {},
   "outputs": [],
   "source": [
    "#Read csv files\n",
    "data = pd.read_csv(\"Dog_Disease_Identification.csv\")\n",
    "sym = pd.read_csv(\"sym_count.csv\")"
   ]
  },
  {
   "cell_type": "code",
   "execution_count": 3,
   "metadata": {},
   "outputs": [],
   "source": [
    "#encode the dataset\n",
    "data = data.fillna('NO')\n",
    "cols = data.columns\n",
    "vals = data.values\n",
    "symptoms = sym['Symtom'].unique()\n",
    "for i in range(len(symptoms)):\n",
    "    vals[vals == symptoms[i]] = sym[sym['Symtom'] == symptoms[i]]['Count'].values[0]\n",
    "    \n",
    "d = pd.DataFrame(vals, columns=cols)\n",
    "d = d.replace('NO',0)\n",
    "d = d.replace('Both',5001)\n",
    "d = d.replace('Male',5002)\n",
    "d = d.replace('Female',5003)\n",
    "d = d.replace('common ',6001)\n",
    "d = d.replace('common',6001)\n",
    "d = d.replace('Below Five',6002)\n",
    "d = d.replace('Below Ten',6003)\n",
    "d = d.replace('Below Fifteen',6004)"
   ]
  },
  {
   "cell_type": "code",
   "execution_count": 4,
   "metadata": {},
   "outputs": [],
   "source": [
    "df = d.iloc[:,1:].values\n",
    "labels = d['Disease '].values"
   ]
  },
  {
   "cell_type": "code",
   "execution_count": 5,
   "metadata": {},
   "outputs": [
    {
     "output_type": "stream",
     "name": "stdout",
     "text": [
      "(1344, 17) (238, 17) (1344,) (238,)\n"
     ]
    }
   ],
   "source": [
    "#split the dataset for training and testing\n",
    "x_train, x_test, y_train, y_test = train_test_split(df, labels, shuffle=True, train_size = 0.85)\n",
    "print(x_train.shape, x_test.shape, y_train.shape, y_test.shape)"
   ]
  },
  {
   "cell_type": "code",
   "execution_count": 6,
   "metadata": {},
   "outputs": [
    {
     "output_type": "execute_result",
     "data": {
      "text/plain": [
       "RandomForestClassifier()"
      ]
     },
     "metadata": {},
     "execution_count": 6
    }
   ],
   "source": [
    "\n",
    "from sklearn.ensemble import RandomForestClassifier\n",
    "rondom = RandomForestClassifier()\n",
    "rondom.fit(x_train, y_train)"
   ]
  },
  {
   "cell_type": "code",
   "execution_count": 7,
   "metadata": {},
   "outputs": [
    {
     "output_type": "execute_result",
     "data": {
      "text/plain": [
       "0.8697478991596639"
      ]
     },
     "metadata": {},
     "execution_count": 7
    }
   ],
   "source": [
    "#calculate accurecy\n",
    "preds = rondom.predict(x_test)\n",
    "accuracy_score(y_test, preds)"
   ]
  },
  {
   "cell_type": "code",
   "execution_count": 8,
   "metadata": {},
   "outputs": [
    {
     "output_type": "stream",
     "name": "stdout",
     "text": [
      "Your Dog Have  Streptococcal Infections Disease!!!!\n"
     ]
    }
   ],
   "source": [
    "l1 = [5001,6001,279,6,970,30,158,1609,2097,3250,0,0,0,0,0,0,0]\n",
    "disease = rondom.predict([l1])\n",
    "print(\"Your Dog Have \",disease[0],\"Disease!!!!\")"
   ]
  },
  {
   "cell_type": "code",
   "execution_count": 9,
   "metadata": {},
   "outputs": [],
   "source": [
    "#accuracy_score(y_test,disease)"
   ]
  },
  {
   "cell_type": "code",
   "execution_count": 11,
   "metadata": {},
   "outputs": [
    {
     "output_type": "stream",
     "name": "stdout",
     "text": [
      "Your Dog Have  Streptococcal Infections Disease!!!!\n"
     ]
    }
   ],
   "source": [
    "import pickle\n",
    "with open('disease_model.pkl','wb') as f:\n",
    "    pickle.dump(rondom,f)\n",
    "\n",
    "with open('disease_model.pkl','rb') as f:\n",
    "    pred_model = pickle.load(f)\n",
    "\n",
    "l1 = [5001,6001,279,6,970,30,158,1609,2097,3250,0,0,0,0,0,0,0]\n",
    "disease = pred_model.predict([l1])\n",
    "print(\"Your Dog Have \",disease[0],\"Disease!!!!\")\n"
   ]
  },
  {
   "cell_type": "code",
   "execution_count": null,
   "metadata": {},
   "outputs": [],
   "source": []
  }
 ],
 "metadata": {
  "kernelspec": {
   "display_name": "Python 3",
   "language": "python",
   "name": "python3"
  },
  "language_info": {
   "codemirror_mode": {
    "name": "ipython",
    "version": 3
   },
   "file_extension": ".py",
   "mimetype": "text/x-python",
   "name": "python",
   "nbconvert_exporter": "python",
   "pygments_lexer": "ipython3",
   "version": "3.8.5"
  }
 },
 "nbformat": 4,
 "nbformat_minor": 4
}